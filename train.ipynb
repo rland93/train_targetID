{
 "cells": [
  {
   "cell_type": "markdown",
   "metadata": {},
   "source": [
    "Imports. The output of `tf.__version__` should read something like 2.#"
   ]
  },
  {
   "cell_type": "code",
   "execution_count": 1,
   "metadata": {},
   "outputs": [
    {
     "name": "stdout",
     "output_type": "stream",
     "text": [
      "2.6.0\n",
      "name: \"/device:CPU:0\"\n",
      "device_type: \"CPU\"\n",
      "memory_limit: 268435456\n",
      "locality {\n",
      "}\n",
      "incarnation: 1296173031685791894\n",
      "\n",
      "---\n",
      "name: \"/device:GPU:0\"\n",
      "device_type: \"GPU\"\n",
      "memory_limit: 7769489408\n",
      "locality {\n",
      "  bus_id: 1\n",
      "  links {\n",
      "  }\n",
      "}\n",
      "incarnation: 17937536419887331623\n",
      "physical_device_desc: \"device: 0, name: NVIDIA GeForce GTX 1070, pci bus id: 0000:04:00.0, compute capability: 6.1\"\n",
      "\n",
      "---\n"
     ]
    },
    {
     "name": "stderr",
     "output_type": "stream",
     "text": [
      "2021-10-02 11:16:30.287061: I tensorflow/core/platform/cpu_feature_guard.cc:142] This TensorFlow binary is optimized with oneAPI Deep Neural Network Library (oneDNN) to use the following CPU instructions in performance-critical operations:  AVX2 FMA\n",
      "To enable them in other operations, rebuild TensorFlow with the appropriate compiler flags.\n",
      "2021-10-02 11:16:30.503412: I tensorflow/core/common_runtime/gpu/gpu_device.cc:1885] Ignoring visible gpu device (device: 1, name: NVS 510, pci bus id: 0000:03:00.0, compute capability: 3.0) with Cuda compute capability 3.0. The minimum required Cuda capability is 3.5.\n",
      "2021-10-02 11:16:30.958285: I tensorflow/core/common_runtime/gpu/gpu_device.cc:1510] Created device /device:GPU:0 with 7409 MB memory:  -> device: 0, name: NVIDIA GeForce GTX 1070, pci bus id: 0000:04:00.0, compute capability: 6.1\n"
     ]
    }
   ],
   "source": [
    "import os\n",
    "from tflite_model_maker.config import ExportFormat\n",
    "from tflite_model_maker import model_spec\n",
    "from tflite_model_maker import object_detector\n",
    "import pycocotools\n",
    "import tensorflow as tf\n",
    "from absl import flags\n",
    "from pathlib import Path\n",
    "print(tf.__version__)\n",
    "import logging\n",
    "logging.basicConfig(level=logging.INFO)\n",
    "from tensorflow.python.client import device_lib\n",
    "for d in device_lib.list_local_devices():\n",
    "    print(d)\n",
    "    print('---')"
   ]
  },
  {
   "cell_type": "markdown",
   "metadata": {},
   "source": [
    "Set directories."
   ]
  },
  {
   "cell_type": "code",
   "execution_count": 2,
   "metadata": {},
   "outputs": [
    {
     "name": "stdout",
     "output_type": "stream",
     "text": [
      "Reading data from  /home/ms/prg/train_targetID/data/20k\n",
      "Saving Checkpoints to  /home/ms/prg/train_targetID/checkpoints/ckpts07\n",
      "Exporting to  /home/ms/prg/train_targetID/export/07\n"
     ]
    }
   ],
   "source": [
    "DATA_DIR = Path(\"./data/20k\")\n",
    "TRAIN_FILE = DATA_DIR / \"20k_train.tfrecord\"\n",
    "TEST_FILE = DATA_DIR / \"20k_test.tfrecord\"\n",
    "CLASS_LABELS_FILE = DATA_DIR / \"classlabels.txt\"\n",
    "CKPT_DIR = Path(\"./checkpoints\") / \"ckpts07\"\n",
    "EXPORT_DIR = Path(\"./export/\") / \"07\"\n",
    "os.makedirs(CKPT_DIR, exist_ok=True)\n",
    "os.makedirs(EXPORT_DIR, exist_ok=True)\n",
    "\n",
    "print(\"Reading data from \", DATA_DIR.resolve())\n",
    "print(\"Saving Checkpoints to \", CKPT_DIR.resolve())\n",
    "print(\"Exporting to \", EXPORT_DIR.resolve())"
   ]
  },
  {
   "cell_type": "markdown",
   "metadata": {},
   "source": [
    "Read class labels."
   ]
  },
  {
   "cell_type": "code",
   "execution_count": 3,
   "metadata": {},
   "outputs": [
    {
     "name": "stdout",
     "output_type": "stream",
     "text": [
      "1 :  circle\n",
      "2 :  diamond\n",
      "3 :  halfcircle\n",
      "4 :  heart\n",
      "5 :  hexagon\n",
      "6 :  hexstar\n",
      "7 :  moon\n",
      "8 :  octagon\n",
      "9 :  pentagon\n",
      "10 :  pentstar\n",
      "11 :  plus\n",
      "12 :  square\n",
      "13 :  trapezoid\n",
      "14 :  triangle\n"
     ]
    }
   ],
   "source": [
    "with open(CLASS_LABELS_FILE, \"r\") as f:\n",
    "    label_map = [s.strip() for s in f.readlines()]\n",
    "    \n",
    "label_map_dict = {}\n",
    "for i, l in enumerate(label_map):\n",
    "    label_map_dict[i+1] = l\n",
    "\n",
    "for k, v in label_map_dict.items():\n",
    "    print(k, \": \", v)"
   ]
  },
  {
   "cell_type": "code",
   "execution_count": 4,
   "metadata": {},
   "outputs": [],
   "source": [
    "train_data = object_detector.DataLoader(\n",
    "    tfrecord_file_patten = str(TRAIN_FILE.resolve()),\n",
    "    size = 18000,\n",
    "    label_map = label_map_dict\n",
    ")\n",
    "\n",
    "test_data = object_detector.DataLoader(\n",
    "    tfrecord_file_patten = str(TEST_FILE.resolve()),\n",
    "    size = 2000,\n",
    "    label_map = label_map_dict\n",
    ")"
   ]
  },
  {
   "cell_type": "markdown",
   "metadata": {},
   "source": [
    "Create spec with hyperparameters."
   ]
  },
  {
   "cell_type": "code",
   "execution_count": 5,
   "metadata": {
    "scrolled": true
   },
   "outputs": [
    {
     "name": "stderr",
     "output_type": "stream",
     "text": [
      "2021-10-02 11:16:31.016680: I tensorflow/core/common_runtime/gpu/gpu_device.cc:1885] Ignoring visible gpu device (device: 1, name: NVS 510, pci bus id: 0000:03:00.0, compute capability: 3.0) with Cuda compute capability 3.0. The minimum required Cuda capability is 3.5.\n",
      "2021-10-02 11:16:31.021080: I tensorflow/core/common_runtime/gpu/gpu_device.cc:1510] Created device /job:localhost/replica:0/task:0/device:GPU:0 with 7409 MB memory:  -> device: 0, name: NVIDIA GeForce GTX 1070, pci bus id: 0000:04:00.0, compute capability: 6.1\n"
     ]
    }
   ],
   "source": [
    "hparams = {\n",
    "    \"map_freq\" : 2,\n",
    "    \"learning_rate\" : 0.2,\n",
    "}\n",
    "spec = object_detector.EfficientDetLite3Spec(\n",
    "    hparams=hparams, model_dir=CKPT_DIR, epochs=300, batch_size=32,\n",
    "    var_freeze_expr='(efficientnet|fpn_cells|resample_p6)',\n",
    "    tflite_max_detections = 10,\n",
    "    verbose = 1,\n",
    ")"
   ]
  },
  {
   "cell_type": "markdown",
   "metadata": {},
   "source": [
    "Train model"
   ]
  },
  {
   "cell_type": "code",
   "execution_count": null,
   "metadata": {},
   "outputs": [
    {
     "name": "stdout",
     "output_type": "stream",
     "text": [
      "INFO:tensorflow:Retraining the models...\n"
     ]
    },
    {
     "name": "stderr",
     "output_type": "stream",
     "text": [
      "INFO:tensorflow:Retraining the models...\n",
      "INFO:absl:Using /tmp/tfhub_modules to cache modules.\n",
      "INFO:absl:target_size = (512, 512), output_size = (512, 512)\n",
      "INFO:absl:LR schedule method: cosine\n",
      "INFO:absl:Use SGD optimizer\n",
      "2021-10-02 11:16:49.619383: I tensorflow/compiler/mlir/mlir_graph_optimization_pass.cc:185] None of the MLIR Optimization Passes are enabled (registered 2)\n"
     ]
    },
    {
     "name": "stdout",
     "output_type": "stream",
     "text": [
      "Epoch 1/300\n"
     ]
    },
    {
     "name": "stderr",
     "output_type": "stream",
     "text": [
      "2021-10-02 11:17:11.259404: I tensorflow/stream_executor/cuda/cuda_dnn.cc:369] Loaded cuDNN version 8204\n"
     ]
    },
    {
     "name": "stdout",
     "output_type": "stream",
     "text": [
      "562/562 [==============================] - 699s 1s/step - det_loss: 0.9097 - cls_loss: 0.7376 - box_loss: 0.0034 - reg_l2_loss: 0.0090 - loss: 0.9187 - learning_rate: 0.0540 - gradient_norm: 0.8468 - val_det_loss: 0.8201 - val_cls_loss: 0.7192 - val_box_loss: 0.0020 - val_reg_l2_loss: 0.0102 - val_loss: 0.8303\n",
      "\n",
      "Epoch 00001: saving model to checkpoints/ckpts07/ckpt-1\n",
      "Epoch 2/300\n",
      "562/562 [==============================] - 691s 1s/step - det_loss: 0.6490 - cls_loss: 0.5354 - box_loss: 0.0023 - reg_l2_loss: 0.0116 - loss: 0.6606 - learning_rate: 0.1000 - gradient_norm: 0.7164 - val_det_loss: 0.6173 - val_cls_loss: 0.5264 - val_box_loss: 0.0018 - val_reg_l2_loss: 0.0129 - val_loss: 0.6302\n",
      "\n",
      "Epoch 00002: saving model to checkpoints/ckpts07/ckpt-2\n",
      "WARNING:tensorflow:AutoGraph could not transform <bound method Socket.send of <zmq.Socket(zmq.PUSH) at 0x7f0113738f30>> and will run it as-is.\n",
      "Please report this to the TensorFlow team. When filing the bug, set the verbosity to 10 (on Linux, `export AUTOGRAPH_VERBOSITY=10`) and attach the full output.\n",
      "Cause: module, class, method, function, traceback, frame, or code object was expected, got cython_function_or_method\n",
      "To silence this warning, decorate the function with @tf.autograph.experimental.do_not_convert\n"
     ]
    },
    {
     "name": "stderr",
     "output_type": "stream",
     "text": [
      "INFO:absl:use max_reduce for pre-nms topk.\n",
      "WARNING:tensorflow:AutoGraph could not transform <bound method Socket.send of <zmq.Socket(zmq.PUSH) at 0x7f0113738f30>> and will run it as-is.\n",
      "Please report this to the TensorFlow team. When filing the bug, set the verbosity to 10 (on Linux, `export AUTOGRAPH_VERBOSITY=10`) and attach the full output.\n",
      "Cause: module, class, method, function, traceback, frame, or code object was expected, got cython_function_or_method\n",
      "To silence this warning, decorate the function with @tf.autograph.experimental.do_not_convert\n"
     ]
    },
    {
     "name": "stdout",
     "output_type": "stream",
     "text": [
      "WARNING: AutoGraph could not transform <bound method Socket.send of <zmq.Socket(zmq.PUSH) at 0x7f0113738f30>> and will run it as-is.\n",
      "Please report this to the TensorFlow team. When filing the bug, set the verbosity to 10 (on Linux, `export AUTOGRAPH_VERBOSITY=10`) and attach the full output.\n",
      "Cause: module, class, method, function, traceback, frame, or code object was expected, got cython_function_or_method\n",
      "To silence this warning, decorate the function with @tf.autograph.experimental.do_not_convert\n",
      "creating index...\n",
      "index created!\n",
      "Loading and preparing results...\n",
      "Converting ndarray to lists...\n",
      "(198400, 7)\n",
      "0/198400\n",
      "DONE (t=1.77s)\n",
      "creating index...\n",
      "index created!\n",
      "Running per image evaluation...\n",
      "Evaluate annotation type *bbox*\n",
      "DONE (t=10.48s).\n",
      "Accumulating evaluation results...\n",
      "DONE (t=0.09s).\n",
      " Average Precision  (AP) @[ IoU=0.50:0.95 | area=   all | maxDets=100 ] = 0.116\n",
      " Average Precision  (AP) @[ IoU=0.50      | area=   all | maxDets=100 ] = 0.185\n",
      " Average Precision  (AP) @[ IoU=0.75      | area=   all | maxDets=100 ] = 0.118\n",
      " Average Precision  (AP) @[ IoU=0.50:0.95 | area= small | maxDets=100 ] = 0.009\n",
      " Average Precision  (AP) @[ IoU=0.50:0.95 | area=medium | maxDets=100 ] = 0.155\n",
      " Average Precision  (AP) @[ IoU=0.50:0.95 | area= large | maxDets=100 ] = 0.179\n",
      " Average Recall     (AR) @[ IoU=0.50:0.95 | area=   all | maxDets=  1 ] = 0.002\n",
      " Average Recall     (AR) @[ IoU=0.50:0.95 | area=   all | maxDets= 10 ] = 0.021\n",
      " Average Recall     (AR) @[ IoU=0.50:0.95 | area=   all | maxDets=100 ] = 0.161\n",
      " Average Recall     (AR) @[ IoU=0.50:0.95 | area= small | maxDets=100 ] = 0.010\n",
      " Average Recall     (AR) @[ IoU=0.50:0.95 | area=medium | maxDets=100 ] = 0.212\n",
      " Average Recall     (AR) @[ IoU=0.50:0.95 | area= large | maxDets=100 ] = 0.245\n",
      "Epoch 3/300\n",
      "562/562 [==============================] - 688s 1s/step - det_loss: 0.6009 - cls_loss: 0.4958 - box_loss: 0.0021 - reg_l2_loss: 0.0141 - loss: 0.6149 - learning_rate: 0.1000 - gradient_norm: 0.6517 - val_det_loss: 0.5324 - val_cls_loss: 0.4445 - val_box_loss: 0.0018 - val_reg_l2_loss: 0.0151 - val_loss: 0.5475\n",
      "\n",
      "Epoch 00003: saving model to checkpoints/ckpts07/ckpt-3\n",
      "Epoch 4/300\n",
      "562/562 [==============================] - 690s 1s/step - det_loss: 0.5723 - cls_loss: 0.4735 - box_loss: 0.0020 - reg_l2_loss: 0.0161 - loss: 0.5884 - learning_rate: 0.1000 - gradient_norm: 0.6223 - val_det_loss: 0.5125 - val_cls_loss: 0.4410 - val_box_loss: 0.0014 - val_reg_l2_loss: 0.0170 - val_loss: 0.5295\n",
      "\n",
      "Epoch 00004: saving model to checkpoints/ckpts07/ckpt-4\n",
      "creating index...\n",
      "index created!\n",
      "Loading and preparing results...\n",
      "Converting ndarray to lists...\n",
      "(198400, 7)\n",
      "0/198400\n",
      "DONE (t=1.20s)\n",
      "creating index...\n",
      "index created!\n",
      "Running per image evaluation...\n",
      "Evaluate annotation type *bbox*\n",
      "DONE (t=9.64s).\n",
      "Accumulating evaluation results...\n",
      "DONE (t=0.08s).\n",
      " Average Precision  (AP) @[ IoU=0.50:0.95 | area=   all | maxDets=100 ] = 0.166\n",
      " Average Precision  (AP) @[ IoU=0.50      | area=   all | maxDets=100 ] = 0.227\n",
      " Average Precision  (AP) @[ IoU=0.75      | area=   all | maxDets=100 ] = 0.180\n",
      " Average Precision  (AP) @[ IoU=0.50:0.95 | area= small | maxDets=100 ] = 0.008\n",
      " Average Precision  (AP) @[ IoU=0.50:0.95 | area=medium | maxDets=100 ] = 0.227\n",
      " Average Precision  (AP) @[ IoU=0.50:0.95 | area= large | maxDets=100 ] = 0.235\n",
      " Average Recall     (AR) @[ IoU=0.50:0.95 | area=   all | maxDets=  1 ] = 0.003\n",
      " Average Recall     (AR) @[ IoU=0.50:0.95 | area=   all | maxDets= 10 ] = 0.024\n",
      " Average Recall     (AR) @[ IoU=0.50:0.95 | area=   all | maxDets=100 ] = 0.202\n",
      " Average Recall     (AR) @[ IoU=0.50:0.95 | area= small | maxDets=100 ] = 0.007\n",
      " Average Recall     (AR) @[ IoU=0.50:0.95 | area=medium | maxDets=100 ] = 0.273\n",
      " Average Recall     (AR) @[ IoU=0.50:0.95 | area= large | maxDets=100 ] = 0.286\n",
      "Epoch 5/300\n",
      "562/562 [==============================] - 689s 1s/step - det_loss: 0.5545 - cls_loss: 0.4575 - box_loss: 0.0019 - reg_l2_loss: 0.0179 - loss: 0.5725 - learning_rate: 0.0999 - gradient_norm: 0.6051 - val_det_loss: 0.5090 - val_cls_loss: 0.4274 - val_box_loss: 0.0016 - val_reg_l2_loss: 0.0188 - val_loss: 0.5278\n",
      "\n",
      "Epoch 00005: saving model to checkpoints/ckpts07/ckpt-5\n",
      "Epoch 6/300\n",
      "562/562 [==============================] - 690s 1s/step - det_loss: 0.5402 - cls_loss: 0.4461 - box_loss: 0.0019 - reg_l2_loss: 0.0196 - loss: 0.5598 - learning_rate: 0.0999 - gradient_norm: 0.5857 - val_det_loss: 0.4741 - val_cls_loss: 0.4069 - val_box_loss: 0.0013 - val_reg_l2_loss: 0.0205 - val_loss: 0.4945\n",
      "\n",
      "Epoch 00006: saving model to checkpoints/ckpts07/ckpt-6\n",
      "creating index...\n",
      "index created!\n",
      "Loading and preparing results...\n",
      "Converting ndarray to lists...\n",
      "(198400, 7)\n",
      "0/198400\n",
      "DONE (t=1.74s)\n",
      "creating index...\n",
      "index created!\n",
      "Running per image evaluation...\n",
      "Evaluate annotation type *bbox*\n",
      "DONE (t=10.03s).\n",
      "Accumulating evaluation results...\n",
      "DONE (t=0.08s).\n",
      " Average Precision  (AP) @[ IoU=0.50:0.95 | area=   all | maxDets=100 ] = 0.200\n",
      " Average Precision  (AP) @[ IoU=0.50      | area=   all | maxDets=100 ] = 0.256\n",
      " Average Precision  (AP) @[ IoU=0.75      | area=   all | maxDets=100 ] = 0.219\n",
      " Average Precision  (AP) @[ IoU=0.50:0.95 | area= small | maxDets=100 ] = 0.011\n",
      " Average Precision  (AP) @[ IoU=0.50:0.95 | area=medium | maxDets=100 ] = 0.268\n",
      " Average Precision  (AP) @[ IoU=0.50:0.95 | area= large | maxDets=100 ] = 0.284\n",
      " Average Recall     (AR) @[ IoU=0.50:0.95 | area=   all | maxDets=  1 ] = 0.003\n",
      " Average Recall     (AR) @[ IoU=0.50:0.95 | area=   all | maxDets= 10 ] = 0.028\n",
      " Average Recall     (AR) @[ IoU=0.50:0.95 | area=   all | maxDets=100 ] = 0.228\n",
      " Average Recall     (AR) @[ IoU=0.50:0.95 | area= small | maxDets=100 ] = 0.011\n",
      " Average Recall     (AR) @[ IoU=0.50:0.95 | area=medium | maxDets=100 ] = 0.305\n",
      " Average Recall     (AR) @[ IoU=0.50:0.95 | area= large | maxDets=100 ] = 0.323\n",
      "Epoch 7/300\n",
      "562/562 [==============================] - 692s 1s/step - det_loss: 0.5310 - cls_loss: 0.4382 - box_loss: 0.0019 - reg_l2_loss: 0.0212 - loss: 0.5522 - learning_rate: 0.0999 - gradient_norm: 0.5771 - val_det_loss: 0.4998 - val_cls_loss: 0.4225 - val_box_loss: 0.0015 - val_reg_l2_loss: 0.0220 - val_loss: 0.5218\n",
      "\n",
      "Epoch 00007: saving model to checkpoints/ckpts07/ckpt-7\n",
      "Epoch 8/300\n",
      "562/562 [==============================] - 692s 1s/step - det_loss: 0.5190 - cls_loss: 0.4288 - box_loss: 0.0018 - reg_l2_loss: 0.0227 - loss: 0.5417 - learning_rate: 0.0998 - gradient_norm: 0.5731 - val_det_loss: 0.4677 - val_cls_loss: 0.3987 - val_box_loss: 0.0014 - val_reg_l2_loss: 0.0234 - val_loss: 0.4911\n",
      "\n",
      "Epoch 00008: saving model to checkpoints/ckpts07/ckpt-8\n",
      "creating index...\n",
      "index created!\n",
      "Loading and preparing results...\n",
      "Converting ndarray to lists...\n",
      "(198400, 7)\n",
      "0/198400\n",
      "DONE (t=1.65s)\n",
      "creating index...\n",
      "index created!\n",
      "Running per image evaluation...\n",
      "Evaluate annotation type *bbox*\n",
      "DONE (t=10.84s).\n",
      "Accumulating evaluation results...\n",
      "DONE (t=0.09s).\n",
      " Average Precision  (AP) @[ IoU=0.50:0.95 | area=   all | maxDets=100 ] = 0.212\n",
      " Average Precision  (AP) @[ IoU=0.50      | area=   all | maxDets=100 ] = 0.262\n",
      " Average Precision  (AP) @[ IoU=0.75      | area=   all | maxDets=100 ] = 0.232\n",
      " Average Precision  (AP) @[ IoU=0.50:0.95 | area= small | maxDets=100 ] = 0.009\n",
      " Average Precision  (AP) @[ IoU=0.50:0.95 | area=medium | maxDets=100 ] = 0.293\n",
      " Average Precision  (AP) @[ IoU=0.50:0.95 | area= large | maxDets=100 ] = 0.291\n",
      " Average Recall     (AR) @[ IoU=0.50:0.95 | area=   all | maxDets=  1 ] = 0.003\n",
      " Average Recall     (AR) @[ IoU=0.50:0.95 | area=   all | maxDets= 10 ] = 0.028\n",
      " Average Recall     (AR) @[ IoU=0.50:0.95 | area=   all | maxDets=100 ] = 0.238\n",
      " Average Recall     (AR) @[ IoU=0.50:0.95 | area= small | maxDets=100 ] = 0.008\n",
      " Average Recall     (AR) @[ IoU=0.50:0.95 | area=medium | maxDets=100 ] = 0.329\n",
      " Average Recall     (AR) @[ IoU=0.50:0.95 | area= large | maxDets=100 ] = 0.326\n",
      "Epoch 9/300\n",
      "562/562 [==============================] - 689s 1s/step - det_loss: 0.5156 - cls_loss: 0.4247 - box_loss: 0.0018 - reg_l2_loss: 0.0241 - loss: 0.5396 - learning_rate: 0.0998 - gradient_norm: 0.5669 - val_det_loss: 0.4582 - val_cls_loss: 0.3914 - val_box_loss: 0.0013 - val_reg_l2_loss: 0.0247 - val_loss: 0.4830\n",
      "\n",
      "Epoch 00009: saving model to checkpoints/ckpts07/ckpt-9\n"
     ]
    },
    {
     "name": "stdout",
     "output_type": "stream",
     "text": [
      "Epoch 10/300\n",
      "562/562 [==============================] - 689s 1s/step - det_loss: 0.5060 - cls_loss: 0.4175 - box_loss: 0.0018 - reg_l2_loss: 0.0254 - loss: 0.5313 - learning_rate: 0.0998 - gradient_norm: 0.5551 - val_det_loss: 0.4676 - val_cls_loss: 0.3927 - val_box_loss: 0.0015 - val_reg_l2_loss: 0.0260 - val_loss: 0.4936\n",
      "\n",
      "Epoch 00010: saving model to checkpoints/ckpts07/ckpt-10\n",
      "creating index...\n",
      "index created!\n",
      "Loading and preparing results...\n",
      "Converting ndarray to lists...\n",
      "(198400, 7)\n",
      "0/198400\n",
      "DONE (t=1.72s)\n",
      "creating index...\n",
      "index created!\n",
      "Running per image evaluation...\n",
      "Evaluate annotation type *bbox*\n",
      "DONE (t=10.48s).\n",
      "Accumulating evaluation results...\n",
      "DONE (t=0.08s).\n",
      " Average Precision  (AP) @[ IoU=0.50:0.95 | area=   all | maxDets=100 ] = 0.211\n",
      " Average Precision  (AP) @[ IoU=0.50      | area=   all | maxDets=100 ] = 0.267\n",
      " Average Precision  (AP) @[ IoU=0.75      | area=   all | maxDets=100 ] = 0.243\n",
      " Average Precision  (AP) @[ IoU=0.50:0.95 | area= small | maxDets=100 ] = 0.006\n",
      " Average Precision  (AP) @[ IoU=0.50:0.95 | area=medium | maxDets=100 ] = 0.291\n",
      " Average Precision  (AP) @[ IoU=0.50:0.95 | area= large | maxDets=100 ] = 0.289\n",
      " Average Recall     (AR) @[ IoU=0.50:0.95 | area=   all | maxDets=  1 ] = 0.003\n",
      " Average Recall     (AR) @[ IoU=0.50:0.95 | area=   all | maxDets= 10 ] = 0.026\n",
      " Average Recall     (AR) @[ IoU=0.50:0.95 | area=   all | maxDets=100 ] = 0.236\n",
      " Average Recall     (AR) @[ IoU=0.50:0.95 | area= small | maxDets=100 ] = 0.005\n",
      " Average Recall     (AR) @[ IoU=0.50:0.95 | area=medium | maxDets=100 ] = 0.327\n",
      " Average Recall     (AR) @[ IoU=0.50:0.95 | area= large | maxDets=100 ] = 0.320\n",
      "Epoch 11/300\n",
      "562/562 [==============================] - 689s 1s/step - det_loss: 0.4986 - cls_loss: 0.4105 - box_loss: 0.0018 - reg_l2_loss: 0.0266 - loss: 0.5252 - learning_rate: 0.0997 - gradient_norm: 0.5509 - val_det_loss: 0.4590 - val_cls_loss: 0.3967 - val_box_loss: 0.0012 - val_reg_l2_loss: 0.0271 - val_loss: 0.4861\n",
      "\n",
      "Epoch 00011: saving model to checkpoints/ckpts07/ckpt-11\n",
      "Epoch 12/300\n",
      "562/562 [==============================] - 689s 1s/step - det_loss: 0.4978 - cls_loss: 0.4090 - box_loss: 0.0018 - reg_l2_loss: 0.0277 - loss: 0.5255 - learning_rate: 0.0996 - gradient_norm: 0.5500 - val_det_loss: 0.4703 - val_cls_loss: 0.4058 - val_box_loss: 0.0013 - val_reg_l2_loss: 0.0282 - val_loss: 0.4985\n",
      "\n",
      "Epoch 00012: saving model to checkpoints/ckpts07/ckpt-12\n",
      "creating index...\n",
      "index created!\n",
      "Loading and preparing results...\n",
      "Converting ndarray to lists...\n",
      "(198400, 7)\n",
      "0/198400\n",
      "DONE (t=1.98s)\n",
      "creating index...\n",
      "index created!\n",
      "Running per image evaluation...\n",
      "Evaluate annotation type *bbox*\n",
      "DONE (t=10.26s).\n",
      "Accumulating evaluation results...\n",
      "DONE (t=0.08s).\n",
      " Average Precision  (AP) @[ IoU=0.50:0.95 | area=   all | maxDets=100 ] = 0.223\n",
      " Average Precision  (AP) @[ IoU=0.50      | area=   all | maxDets=100 ] = 0.271\n",
      " Average Precision  (AP) @[ IoU=0.75      | area=   all | maxDets=100 ] = 0.248\n",
      " Average Precision  (AP) @[ IoU=0.50:0.95 | area= small | maxDets=100 ] = 0.010\n",
      " Average Precision  (AP) @[ IoU=0.50:0.95 | area=medium | maxDets=100 ] = 0.306\n",
      " Average Precision  (AP) @[ IoU=0.50:0.95 | area= large | maxDets=100 ] = 0.308\n",
      " Average Recall     (AR) @[ IoU=0.50:0.95 | area=   all | maxDets=  1 ] = 0.003\n",
      " Average Recall     (AR) @[ IoU=0.50:0.95 | area=   all | maxDets= 10 ] = 0.028\n",
      " Average Recall     (AR) @[ IoU=0.50:0.95 | area=   all | maxDets=100 ] = 0.244\n",
      " Average Recall     (AR) @[ IoU=0.50:0.95 | area= small | maxDets=100 ] = 0.009\n",
      " Average Recall     (AR) @[ IoU=0.50:0.95 | area=medium | maxDets=100 ] = 0.334\n",
      " Average Recall     (AR) @[ IoU=0.50:0.95 | area= large | maxDets=100 ] = 0.331\n",
      "Epoch 13/300\n",
      "562/562 [==============================] - 692s 1s/step - det_loss: 0.4939 - cls_loss: 0.4055 - box_loss: 0.0018 - reg_l2_loss: 0.0287 - loss: 0.5227 - learning_rate: 0.0996 - gradient_norm: 0.5513 - val_det_loss: 0.4460 - val_cls_loss: 0.3780 - val_box_loss: 0.0014 - val_reg_l2_loss: 0.0292 - val_loss: 0.4753\n",
      "\n",
      "Epoch 00013: saving model to checkpoints/ckpts07/ckpt-13\n",
      "Epoch 14/300\n",
      "562/562 [==============================] - 692s 1s/step - det_loss: 0.4855 - cls_loss: 0.3995 - box_loss: 0.0017 - reg_l2_loss: 0.0297 - loss: 0.5153 - learning_rate: 0.0995 - gradient_norm: 0.5440 - val_det_loss: 0.4407 - val_cls_loss: 0.3817 - val_box_loss: 0.0012 - val_reg_l2_loss: 0.0302 - val_loss: 0.4709\n",
      "\n",
      "Epoch 00014: saving model to checkpoints/ckpts07/ckpt-14\n",
      "creating index...\n",
      "index created!\n",
      "Loading and preparing results...\n",
      "Converting ndarray to lists...\n",
      "(198400, 7)\n",
      "0/198400\n",
      "DONE (t=1.18s)\n",
      "creating index...\n",
      "index created!\n",
      "Running per image evaluation...\n",
      "Evaluate annotation type *bbox*\n",
      "DONE (t=10.15s).\n",
      "Accumulating evaluation results...\n",
      "DONE (t=0.08s).\n",
      " Average Precision  (AP) @[ IoU=0.50:0.95 | area=   all | maxDets=100 ] = 0.233\n",
      " Average Precision  (AP) @[ IoU=0.50      | area=   all | maxDets=100 ] = 0.284\n",
      " Average Precision  (AP) @[ IoU=0.75      | area=   all | maxDets=100 ] = 0.262\n",
      " Average Precision  (AP) @[ IoU=0.50:0.95 | area= small | maxDets=100 ] = 0.007\n",
      " Average Precision  (AP) @[ IoU=0.50:0.95 | area=medium | maxDets=100 ] = 0.321\n",
      " Average Precision  (AP) @[ IoU=0.50:0.95 | area= large | maxDets=100 ] = 0.321\n",
      " Average Recall     (AR) @[ IoU=0.50:0.95 | area=   all | maxDets=  1 ] = 0.003\n",
      " Average Recall     (AR) @[ IoU=0.50:0.95 | area=   all | maxDets= 10 ] = 0.028\n",
      " Average Recall     (AR) @[ IoU=0.50:0.95 | area=   all | maxDets=100 ] = 0.253\n",
      " Average Recall     (AR) @[ IoU=0.50:0.95 | area= small | maxDets=100 ] = 0.006\n",
      " Average Recall     (AR) @[ IoU=0.50:0.95 | area=medium | maxDets=100 ] = 0.347\n",
      " Average Recall     (AR) @[ IoU=0.50:0.95 | area= large | maxDets=100 ] = 0.350\n",
      "Epoch 15/300\n",
      "562/562 [==============================] - 692s 1s/step - det_loss: 0.4852 - cls_loss: 0.3978 - box_loss: 0.0017 - reg_l2_loss: 0.0307 - loss: 0.5158 - learning_rate: 0.0994 - gradient_norm: 0.5420 - val_det_loss: 0.4512 - val_cls_loss: 0.3904 - val_box_loss: 0.0012 - val_reg_l2_loss: 0.0311 - val_loss: 0.4823\n",
      "\n",
      "Epoch 00015: saving model to checkpoints/ckpts07/ckpt-15\n",
      "Epoch 16/300\n",
      "449/562 [======================>.......] - ETA: 2:10 - det_loss: 0.4824 - cls_loss: 0.3957 - box_loss: 0.0017 - reg_l2_loss: 0.0314 - loss: 0.5138 - learning_rate: 0.0993 - gradient_norm: 0.5383"
     ]
    }
   ],
   "source": [
    "model = object_detector.create(\n",
    "    train_data = train_data,\n",
    "    model_spec = spec,\n",
    "    validation_data = test_data,\n",
    "    train_whole_model = False,\n",
    "    do_train = True,\n",
    ")\n",
    "model.export(\n",
    "    export_dir = EXPORT_DIR,\n",
    "    export_format = [ExportFormat.TFLITE, ExportFormat.LABEL, ExportFormat.SAVED_MODEL]\n",
    ")"
   ]
  }
 ],
 "metadata": {
  "kernelspec": {
   "display_name": "tflite_model_maker",
   "language": "python",
   "name": "tflite_model_maker"
  },
  "language_info": {
   "codemirror_mode": {
    "name": "ipython",
    "version": 3
   },
   "file_extension": ".py",
   "mimetype": "text/x-python",
   "name": "python",
   "nbconvert_exporter": "python",
   "pygments_lexer": "ipython3",
   "version": "3.7.11"
  }
 },
 "nbformat": 4,
 "nbformat_minor": 5
}
